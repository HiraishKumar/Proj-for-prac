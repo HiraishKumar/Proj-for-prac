{
 "cells": [
  {
   "cell_type": "code",
   "execution_count": 1,
   "metadata": {},
   "outputs": [
    {
     "name": "stdout",
     "output_type": "stream",
     "text": [
      "<class 'pandas.core.frame.DataFrame'>\n",
      "RangeIndex: 10 entries, 0 to 9\n",
      "Data columns (total 3 columns):\n",
      " #   Column    Non-Null Count  Dtype \n",
      "---  ------    --------------  ----- \n",
      " 0   Website   10 non-null     object\n",
      " 1   Username  10 non-null     object\n",
      " 2   Password  10 non-null     object\n",
      "dtypes: object(3)\n",
      "memory usage: 372.0+ bytes\n"
     ]
    }
   ],
   "source": [
    "import pandas as pd\n",
    "df = pd.read_csv('password_database.csv')\n",
    "df.info()"
   ]
  },
  {
   "cell_type": "code",
   "execution_count": 2,
   "metadata": {},
   "outputs": [],
   "source": [
    "import string\n",
    "def Encrypter(initial_string:str,cypher:int=3)-> str:\n",
    "    '''\n",
    "    shift the postion of the element in the string base {cypher} No. of times\n",
    "    '''\n",
    "    encrypt=''    \n",
    "    string_base=[i for i in (string.ascii_letters+string.digits+' ')]\n",
    "    #'abcdefghijklmnopqrstuvwxyzABCDEFGHIJKLMNOPQRSTUVWXYZ0123456789 '          \n",
    "    for letter in initial_string:        \n",
    "        if letter in string_base:\n",
    "            new_letter_index=string_base.index(letter)+cypher\n",
    "            if new_letter_index>=len(string_base)-1:\n",
    "                new_letter_index-=len(string_base)\n",
    "                encrypt+=string_base[new_letter_index]\n",
    "            else:\n",
    "                encrypt+=string_base[new_letter_index]\n",
    "        else:\n",
    "            encrypt+=letter    \n",
    "\n",
    "    return encrypt   \n",
    " \n",
    "def Decrypter(initial_string:str,cypher:int=3)-> str:\n",
    "    '''\n",
    "    shift the postion of the element in the string base BACK {cypher} No. of times\n",
    "    (to mentain integrity decrypt with the same cypher as encryption)\n",
    "    '''   \n",
    "    decrypt=''\n",
    "    string_base=[i for i in (string.ascii_letters+string.digits+' ')]\n",
    "    #'abcdefghijklmnopqrstuvwxyzABCDEFGHIJKLMNOPQRSTUVWXYZ0123456789 '\n",
    "    for letter in initial_string:   \n",
    "        if letter in string_base:     \n",
    "            new_letter_index=string_base.index(letter)-cypher\n",
    "            decrypt+=string_base[new_letter_index]\n",
    "        else:\n",
    "            decrypt+=letter\n",
    "    return decrypt "
   ]
  },
  {
   "cell_type": "code",
   "execution_count": 3,
   "metadata": {},
   "outputs": [
    {
     "data": {
      "text/html": [
       "<div>\n",
       "<style scoped>\n",
       "    .dataframe tbody tr th:only-of-type {\n",
       "        vertical-align: middle;\n",
       "    }\n",
       "\n",
       "    .dataframe tbody tr th {\n",
       "        vertical-align: top;\n",
       "    }\n",
       "\n",
       "    .dataframe thead th {\n",
       "        text-align: right;\n",
       "    }\n",
       "</style>\n",
       "<table border=\"1\" class=\"dataframe\">\n",
       "  <thead>\n",
       "    <tr style=\"text-align: right;\">\n",
       "      <th></th>\n",
       "      <th>Website</th>\n",
       "      <th>Username</th>\n",
       "      <th>Password</th>\n",
       "    </tr>\n",
       "  </thead>\n",
       "  <tbody>\n",
       "    <tr>\n",
       "      <th>0</th>\n",
       "      <td>Facebook.com</td>\n",
       "      <td>coolguy123</td>\n",
       "      <td>P@ssw0rd!</td>\n",
       "    </tr>\n",
       "    <tr>\n",
       "      <th>1</th>\n",
       "      <td>instagram.com</td>\n",
       "      <td>soccerlover22</td>\n",
       "      <td>Goalie</td>\n",
       "    </tr>\n",
       "    <tr>\n",
       "      <th>2</th>\n",
       "      <td>Facebook.com</td>\n",
       "      <td>mysterygal99</td>\n",
       "      <td>Secret$Pass</td>\n",
       "    </tr>\n",
       "    <tr>\n",
       "      <th>3</th>\n",
       "      <td>Reddit.com</td>\n",
       "      <td>techwizard007</td>\n",
       "      <td>CodeM@ster</td>\n",
       "    </tr>\n",
       "    <tr>\n",
       "      <th>4</th>\n",
       "      <td>Reddit.com</td>\n",
       "      <td>musicjunkie23</td>\n",
       "      <td>Melody*Power</td>\n",
       "    </tr>\n",
       "    <tr>\n",
       "      <th>5</th>\n",
       "      <td>Facebook.com</td>\n",
       "      <td>adventureseeker</td>\n",
       "      <td>ExploR3r$Fun</td>\n",
       "    </tr>\n",
       "    <tr>\n",
       "      <th>6</th>\n",
       "      <td>instagram.com</td>\n",
       "      <td>gamerpro444</td>\n",
       "      <td>G@m3OnNow</td>\n",
       "    </tr>\n",
       "    <tr>\n",
       "      <th>7</th>\n",
       "      <td>Reddit.com</td>\n",
       "      <td>foodieforever</td>\n",
       "      <td>Yummi3s&amp;More</td>\n",
       "    </tr>\n",
       "    <tr>\n",
       "      <th>8</th>\n",
       "      <td>Facebook.com</td>\n",
       "      <td>bookworm2023</td>\n",
       "      <td>ReadB00ks!</td>\n",
       "    </tr>\n",
       "    <tr>\n",
       "      <th>9</th>\n",
       "      <td>Tumblr.com</td>\n",
       "      <td>outdoorsygirl</td>\n",
       "      <td>Hik3r@Nature</td>\n",
       "    </tr>\n",
       "  </tbody>\n",
       "</table>\n",
       "</div>"
      ],
      "text/plain": [
       "         Website         Username      Password\n",
       "0   Facebook.com       coolguy123     P@ssw0rd!\n",
       "1  instagram.com    soccerlover22        Goalie\n",
       "2   Facebook.com     mysterygal99   Secret$Pass\n",
       "3     Reddit.com    techwizard007    CodeM@ster\n",
       "4     Reddit.com    musicjunkie23  Melody*Power\n",
       "5   Facebook.com  adventureseeker  ExploR3r$Fun\n",
       "6  instagram.com      gamerpro444     G@m3OnNow\n",
       "7     Reddit.com    foodieforever  Yummi3s&More\n",
       "8   Facebook.com     bookworm2023    ReadB00ks!\n",
       "9     Tumblr.com    outdoorsygirl  Hik3r@Nature"
      ]
     },
     "execution_count": 3,
     "metadata": {},
     "output_type": "execute_result"
    }
   ],
   "source": [
    "df.head(10)"
   ]
  },
  {
   "cell_type": "code",
   "execution_count": 5,
   "metadata": {},
   "outputs": [
    {
     "name": "stdout",
     "output_type": "stream",
     "text": [
      "['S@vvz3ug!', 'Jrdolh', 'Vhfuhw$Sdvv', 'FrghP@vwhu', 'PhorgB*Srzhu', 'HAsorU6u$Ixq', 'J@p6RqQrz', '1xppl6v&Pruh', 'UhdgE33nv!', 'Kln6u@Qdwxuh']\n",
      "['P@ssw0rd!', 'Goalie', 'Secret$Pass', 'CodeM@ster', 'Melody*Power', 'ExploR3r$Fun', 'G@m3OnNow', 'Yummi3s&More', 'ReadB00ks!', 'Hik3r@Nature']\n"
     ]
    }
   ],
   "source": [
    "lst=[df.iloc[i,2] for i in range(len(df['Password']))]\n",
    "\n",
    "encrypted=list(map(Encrypter,lst))\n",
    "decrypted=list(map(Decrypter,encrypted))\n",
    "\n",
    "print(encrypted)\n",
    "print(decrypted)\n",
    "\n",
    "# filtered_df = df[df['Website'] == 'Facebook.com']\n",
    "# filtered_df.head()"
   ]
  },
  {
   "cell_type": "code",
   "execution_count": 5,
   "metadata": {},
   "outputs": [
    {
     "ename": "ValueError",
     "evalue": "'P@ssw0rd!' is not in list",
     "output_type": "error",
     "traceback": [
      "\u001b[1;31m---------------------------------------------------------------------------\u001b[0m",
      "\u001b[1;31mValueError\u001b[0m                                Traceback (most recent call last)",
      "Cell \u001b[1;32mIn[5], line 1\u001b[0m\n\u001b[1;32m----> 1\u001b[0m df\u001b[39m.\u001b[39mloc[:, \u001b[39m'\u001b[39m\u001b[39mPassword\u001b[39m\u001b[39m'\u001b[39m] \u001b[39m=\u001b[39m Encrypter(df\u001b[39m.\u001b[39;49mloc[:, \u001b[39m'\u001b[39;49m\u001b[39mPassword\u001b[39;49m\u001b[39m'\u001b[39;49m])\n\u001b[0;32m      2\u001b[0m df\u001b[39m.\u001b[39mhead(\u001b[39m10\u001b[39m)\n",
      "Cell \u001b[1;32mIn[2], line 10\u001b[0m, in \u001b[0;36mEncrypter\u001b[1;34m(initial_string, cypher)\u001b[0m\n\u001b[0;32m      8\u001b[0m \u001b[39m#'abcdefghijklmnopqrstuvwxyzABCDEFGHIJKLMNOPQRSTUVWXYZ0123456789 '\u001b[39;00m\n\u001b[0;32m      9\u001b[0m \u001b[39mfor\u001b[39;00m letter \u001b[39min\u001b[39;00m initial_string:\n\u001b[1;32m---> 10\u001b[0m     new_letter_index\u001b[39m=\u001b[39mstring_base\u001b[39m.\u001b[39;49mindex(letter)\u001b[39m+\u001b[39mcypher\n\u001b[0;32m     11\u001b[0m     \u001b[39mif\u001b[39;00m new_letter_index\u001b[39m>\u001b[39m\u001b[39m=\u001b[39m\u001b[39mlen\u001b[39m(string_base)\u001b[39m-\u001b[39m\u001b[39m1\u001b[39m:\n\u001b[0;32m     12\u001b[0m         \u001b[39mif\u001b[39;00m letter \u001b[39min\u001b[39;00m string_base:\n",
      "\u001b[1;31mValueError\u001b[0m: 'P@ssw0rd!' is not in list"
     ]
    }
   ],
   "source": []
  }
 ],
 "metadata": {
  "kernelspec": {
   "display_name": "Python 3",
   "language": "python",
   "name": "python3"
  },
  "language_info": {
   "codemirror_mode": {
    "name": "ipython",
    "version": 3
   },
   "file_extension": ".py",
   "mimetype": "text/x-python",
   "name": "python",
   "nbconvert_exporter": "python",
   "pygments_lexer": "ipython3",
   "version": "3.11.3"
  },
  "orig_nbformat": 4
 },
 "nbformat": 4,
 "nbformat_minor": 2
}
